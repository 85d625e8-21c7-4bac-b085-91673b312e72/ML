{
 "cells": [
  {
   "cell_type": "code",
   "execution_count": 2,
   "metadata": {},
   "outputs": [],
   "source": [
    "from transformers import AutoTokenizer\n",
    "from dotenv import load_dotenv\n",
    "import os\n",
    "\n",
    "\n",
    "load_dotenv()\n",
    "\n",
    "\n",
    "tokenizer = AutoTokenizer.from_pretrained(\n",
    "    os.getenv(\"FULL_MODEL\"),\n",
    "    cache_dir=\"/home/raid/hf_cache\",\n",
    "    token=os.getenv(\"HF_TOKEN\")\n",
    ")"
   ]
  },
  {
   "cell_type": "code",
   "execution_count": 3,
   "metadata": {},
   "outputs": [],
   "source": [
    "### ПРИМЕР ФУНКЦИЙ\n",
    "def get_weather(city: str):\n",
    "    \"\"\"\n",
    "    Функция, которая возвращает погоду в заданном городе.\n",
    "    \n",
    "    Args:\n",
    "        city: Город, для которого надо узнать погоду.\n",
    "    \"\"\"\n",
    "    import random\n",
    "    \n",
    "    return \"sunny\" if random.random() > 0.5 else \"rainy\"\n",
    "\n",
    "\n",
    "def get_sunrise_sunset_times(city: str):\n",
    "    \"\"\"\n",
    "    Функция, которая возвращает время восхода и заката для заданного города для текущей даты (дата от пользователя не требуется), в формате списка: [sunrise_time, sunset_time].\n",
    "    \n",
    "    Args:\n",
    "        city: Город, в котором можно узнать время восхода и захода солнца.\n",
    "    \"\"\"\n",
    "\n",
    "    return [\"6:00\", \"18:00\"]\n"
   ]
  },
  {
   "cell_type": "code",
   "execution_count": 10,
   "metadata": {},
   "outputs": [],
   "source": [
    "messages = [\n",
    "    {\n",
    "        \"role\": \"system\",  # Этот всегда такой\n",
    "        \"content\": \"Ты - полезный помощник, имеющий доступ к следующим функциям. Используйте их при необходимости - \"\n",
    "    },\n",
    "    {\n",
    "        \"role\": \"user\", # запрос пользователя\n",
    "        \"content\": \"Привет, не мог бы ты сказать мне, во сколько в Краснодаре восходит солнце?\"\n",
    "    }\n",
    "]\n",
    "\n",
    "tools = [get_weather, get_sunrise_sunset_times]\n",
    "\n",
    "PROMPT = tokenizer.apply_chat_template(\n",
    "    messages,\n",
    "    tools=tools,\n",
    "    tokenize=False,\n",
    "    add_generation_prompt=True\n",
    ")"
   ]
  },
  {
   "cell_type": "code",
   "execution_count": null,
   "metadata": {},
   "outputs": [],
   "source": [
    "from llama_cpp import Llama\n",
    "\n",
    "\n",
    "llm = Llama(\n",
    "    model_path=os.getenv(\"FULL_MODEL\"),\n",
    ")"
   ]
  },
  {
   "cell_type": "code",
   "execution_count": null,
   "metadata": {},
   "outputs": [],
   "source": [
    "llm(\n",
    "    PROMPT,\n",
    "    max_tokens=256,\n",
    ")"
   ]
  }
 ],
 "metadata": {
  "kernelspec": {
   "display_name": "base",
   "language": "python",
   "name": "python3"
  },
  "language_info": {
   "codemirror_mode": {
    "name": "ipython",
    "version": 3
   },
   "file_extension": ".py",
   "mimetype": "text/x-python",
   "name": "python",
   "nbconvert_exporter": "python",
   "pygments_lexer": "ipython3",
   "version": "3.10.11"
  }
 },
 "nbformat": 4,
 "nbformat_minor": 2
}
